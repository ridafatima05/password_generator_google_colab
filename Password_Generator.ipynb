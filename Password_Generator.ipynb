{
  "nbformat": 4,
  "nbformat_minor": 0,
  "metadata": {
    "colab": {
      "provenance": [],
      "authorship_tag": "ABX9TyM1520U4nxecAsMo/ZqFYww",
      "include_colab_link": true
    },
    "kernelspec": {
      "name": "python3",
      "display_name": "Python 3"
    },
    "language_info": {
      "name": "python"
    }
  },
  "cells": [
    {
      "cell_type": "markdown",
      "metadata": {
        "id": "view-in-github",
        "colab_type": "text"
      },
      "source": [
        "<a href=\"https://colab.research.google.com/github/ridafatima05/password_generator_google_colab/blob/main/Password_Generator.ipynb\" target=\"_parent\"><img src=\"https://colab.research.google.com/assets/colab-badge.svg\" alt=\"Open In Colab\"/></a>"
      ]
    },
    {
      "cell_type": "markdown",
      "source": [
        "#**Password Generator**"
      ],
      "metadata": {
        "id": "SffB3f31M-ow"
      }
    },
    {
      "cell_type": "code",
      "source": [
        "#Project : 6\n",
        "#Password Generator by Rida Fatima.\n",
        "\n",
        "import random # import random to generate random values\n",
        "import string # import string to generate string values\n",
        "\n",
        "#define a function\n",
        "def generated_password(length=13):\n",
        "  characters = string.ascii_letters + string.digits + string.punctuation\n",
        "  password = ''.join(random.choice(characters) for _ in range(length))\n",
        "  return password\n",
        "\n",
        "#user input\n",
        "length = int(input(\"Enter the length of your password:\"))\n",
        "password = generated_password(length)\n",
        "print(\"Your Generated Password: \", password)\n",
        "\n"
      ],
      "metadata": {
        "colab": {
          "base_uri": "https://localhost:8080/"
        },
        "id": "tuyOhIopNEvc",
        "outputId": "5d781455-d6c6-413e-ad58-0a67ce36007d"
      },
      "execution_count": 2,
      "outputs": [
        {
          "output_type": "stream",
          "name": "stdout",
          "text": [
            "Enter the length of your password:100\n",
            "Your Generated Password:  pYILTOSWh=(_|>/8Pl!(Nd~dEV6O*M,,c?gheD+t.0crvtrK/mj,TDp,I[tGGTLPBRK[$1y3S~u#BIy]E8qYcN-E~0'qu#[99m(]\n"
          ]
        }
      ]
    }
  ]
}